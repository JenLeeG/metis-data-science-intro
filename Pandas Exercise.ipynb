{
 "cells": [
  {
   "cell_type": "markdown",
   "metadata": {},
   "source": [
    "# Pandas Worksheet\n",
    "In this example, we are going to learn how to use the Pandas library to quickly ingest some data and perform some basic calculations on this data.\n",
    "\n",
    "Please execute the cell below to import the necessary modules."
   ]
  },
  {
   "cell_type": "code",
   "execution_count": null,
   "metadata": {
    "collapsed": true
   },
   "outputs": [],
   "source": [
    "import matplotlib\n",
    "import pandas as pd\n",
    "import matplotlib.pyplot as plt\n",
    "plt.style.use('ggplot')\n",
    "%matplotlib inline  "
   ]
  },
  {
   "cell_type": "markdown",
   "metadata": {},
   "source": [
    "Now that you've done that, we are going to open a file called `baltimore_salaries_2016.csv`.  Pandas has a series of input/output functions, but the one we will use is `pd.read_csv(<file>)`.  For the first step, please read the data into a variable called `df`. "
   ]
  },
  {
   "cell_type": "code",
   "execution_count": null,
   "metadata": {
    "collapsed": true
   },
   "outputs": [],
   "source": []
  },
  {
   "cell_type": "markdown",
   "metadata": {},
   "source": [
    "Pandas has a collection of functions which you call on the DataFrame to view the data you have read.  \n",
    "* `df.head(<n>)` outputs the first *n* rows of your dataset\n",
    "* `df.tail(<n>)` outputs the last *n* rows of your dataset\n",
    "\n",
    "Please display the last 10 lines of the dataset."
   ]
  },
  {
   "cell_type": "code",
   "execution_count": null,
   "metadata": {},
   "outputs": [],
   "source": []
  },
  {
   "cell_type": "markdown",
   "metadata": {},
   "source": [
    "## Accessing Individual Columns\n",
    "You can access individual columns within your dataset by specifying a column name, or a list of columns in brackets after the dataframe name.  For example:  `df[\"column1]` would limit the data to only the column called `column1`.  \n",
    "\n",
    "### Selecting Multiple Columns\n",
    "You can also select multiple columns by placing a list in the brackets after a DataFrame name as shown below.\n",
    "\n",
    "```python\n",
    "desired_columns = ['name', 'quest', 'favorite_color']\n",
    "df[ desired_columns ]\n",
    "\n",
    "#Note the double brackets!!\n",
    "df[['name', 'quest', 'favorite_color']]\n",
    "```\n",
    "\n",
    "Please create a second dataframe called `salary_summary` which consists of the following columns: `JobTitle`, `Agency`, `AnnualSalary`, `GrossPay`.  Print out the first 10 rows of this new dataframe."
   ]
  },
  {
   "cell_type": "code",
   "execution_count": null,
   "metadata": {},
   "outputs": [],
   "source": []
  },
  {
   "cell_type": "markdown",
   "metadata": {},
   "source": [
    "### Transforming the Data\n",
    "In the beginning of this presentation, I mentioned that the idea behind Pandas is **Vectorized Computing** meaning that you can perform operations on the entire dataset at once instead of having to iterate through the data row by row.  For example if you had a column called price, and you wanted to figure out the price plus sales tax, you could simply write:\n",
    "\n",
    "```\n",
    "tax_rate = 1.0575\n",
    "df['price'] * tax_rate\n",
    "```\n",
    "Then if you wanted to store the result in your DataFrame, you can create a new column simply by assigning that result to a new column, as shown below:\n",
    "```\n",
    "df['price_with_tax'] = df['price'] * tax_rate\n",
    "```\n",
    "#### Exercise:\n",
    "1.  Create a new column called `SalaryDelta` containing the difference between the Annual Salary and Gross Pay \n",
    "2.  Verify this by outputting the first 10 rows of your DataFrame"
   ]
  },
  {
   "cell_type": "code",
   "execution_count": null,
   "metadata": {},
   "outputs": [],
   "source": []
  },
  {
   "cell_type": "markdown",
   "metadata": {},
   "source": [
    "### Filtering Data\n",
    "Another key data transformation that is possible using the Pandas system is the ability to filter your data. The way this is accomplished is by placing a boolean condition in the brackets.\n",
    "```\n",
    "df[ <boolean condition> ]\n",
    "```\n",
    "You can also simultaneously choose specific columns AND filter your data as shown below.\n",
    "```\n",
    "df[ <columns> ][ <boolean condition> ]\n",
    "```\n",
    "\n",
    "To see how this works first try the following:\n",
    "```\n",
    "df['SalaryDelta'] < 0\n",
    "```\n",
    "You should get something that looks like this:\n",
    "```\n",
    "0        False\n",
    "1        False\n",
    "2        False\n",
    "3        False\n",
    "4         True\n",
    "5        False\n",
    "6         True\n",
    "...\n",
    "```\n",
    "What happens when you run a boolean test like that you are actually creating a series of true/false values which when placed in the brackets serve as a filter for your original data.\n",
    "\n",
    "#### Exercise\n",
    "1.  Create a new DataFrame called `Overtime` where the `SalaryDelta` is negative (IE:  Someone's GrossPay islarger than their AnnualSalary)\n",
    "2.  Using the absolute value function (`.abs()`) remove the negative sign\n",
    "2.  Display the first 10 rows"
   ]
  },
  {
   "cell_type": "code",
   "execution_count": null,
   "metadata": {},
   "outputs": [],
   "source": []
  },
  {
   "cell_type": "markdown",
   "metadata": {},
   "source": [
    "## Exploratory Data Analysis\n",
    "Pandas has a whole collection of functions to explore your data.  For instance, the function `.describe()` can be used on individual columns or an entire DataFrame and will generate summary statistics of your data.  Additionally, the function `.value_counts()` can be applied to an individual column to count unique occurences in a column.\n",
    "\n",
    "Using both of these methods, answer the following questions:\n",
    "1.  Which agency had the most employees who claimed overtime?\n",
    "2.  What is the average amount of overtime paid out?\n",
    "3.  What job title has the most people taking overtime?"
   ]
  },
  {
   "cell_type": "code",
   "execution_count": null,
   "metadata": {},
   "outputs": [],
   "source": []
  },
  {
   "cell_type": "code",
   "execution_count": null,
   "metadata": {},
   "outputs": [],
   "source": []
  },
  {
   "cell_type": "code",
   "execution_count": null,
   "metadata": {},
   "outputs": [],
   "source": []
  },
  {
   "cell_type": "markdown",
   "metadata": {},
   "source": [
    "## Visualizing Data\n",
    "As you've seen, Pandas is extremely powerful for manipulating data, but it can also be used to visualze data as well.  By calling the `.plot()` method, you can render a whole series of visualizations quickly and easily.  Additionally, there are other libraries such as Yellowbrick, Seaborn and others which can create print-ready complex visualizations.  \n",
    "\n",
    "In addition to the `.plot()` function, there is the `.hist()` function which creates a histogram and can be used to visualize the distribution of the data.  \n",
    "\n",
    "### Exercise:\n",
    "1.  Create histograms of the `GrossPay` and `SalaryDelta` columns and compare the distributions of both columns."
   ]
  },
  {
   "cell_type": "code",
   "execution_count": null,
   "metadata": {},
   "outputs": [],
   "source": []
  }
 ],
 "metadata": {
  "kernelspec": {
   "display_name": "Python [default]",
   "language": "python",
   "name": "python3"
  },
  "language_info": {
   "codemirror_mode": {
    "name": "ipython",
    "version": 3
   },
   "file_extension": ".py",
   "mimetype": "text/x-python",
   "name": "python",
   "nbconvert_exporter": "python",
   "pygments_lexer": "ipython3",
   "version": "3.5.3"
  }
 },
 "nbformat": 4,
 "nbformat_minor": 2
}
